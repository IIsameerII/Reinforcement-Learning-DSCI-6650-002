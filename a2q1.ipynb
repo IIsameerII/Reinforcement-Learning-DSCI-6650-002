{
 "cells": [
  {
   "cell_type": "code",
   "execution_count": 22,
   "metadata": {},
   "outputs": [],
   "source": [
    "import numpy as np\n",
    "import matplotlib.pyplot as plt\n",
    "\n",
    "def plot_policy(values, title):\n",
    "    policy = np.zeros_like(values, dtype='<U2')\n",
    "    n, m = values.shape\n",
    "    for i in range(n):\n",
    "        for j in range(m):\n",
    "            best_action = None\n",
    "            best_value = -np.inf\n",
    "            directions = {'U': (-1, 0), 'D': (1, 0), 'L': (0, -1), 'R': (0, 1)}\n",
    "            for d, (di, dj) in directions.items():\n",
    "                ni, nj = i + di, j + dj\n",
    "                if 0 <= ni < n and 0 <= nj < m:\n",
    "                    if values[ni, nj] > best_value:\n",
    "                        best_value = values[ni, nj]\n",
    "                        best_action = d\n",
    "            if best_action:\n",
    "                policy[i, j] = best_action.replace('U', '↑').replace('D', '↓').replace('L', '←').replace('R', '→')\n",
    "    plt.imshow(np.zeros_like(values), cmap='Greys', alpha=0.3)\n",
    "    for i in range(n):\n",
    "        for j in range(m):\n",
    "            plt.text(j, i, policy[i, j], ha='center', va='center', color='black')\n",
    "    plt.title(title)\n",
    "    plt.xticks([])\n",
    "    plt.yticks([])\n",
    "    plt.show()"
   ]
  },
  {
   "cell_type": "markdown",
   "metadata": {},
   "source": [
    "# 2. Iterative Policy Evaluation"
   ]
  },
  {
   "cell_type": "code",
   "execution_count": 23,
   "metadata": {},
   "outputs": [
    {
     "name": "stdout",
     "output_type": "stream",
     "text": [
      "\n",
      "[[ 2.155382    0.          2.40682657  0.          0.39624276]\n",
      " [ 0.55399724  0.          0.35875701  0.         -0.7030474 ]\n",
      " [-0.37676859 -0.24076801 -0.36996053 -0.84595829 -1.07445687]\n",
      " [-0.99656018 -0.79336553 -0.82977873 -1.06489948 -1.37427183]\n",
      " [-1.50306486 -1.2734109  -1.26561098 -1.4338098  -1.74649582]]\n"
     ]
    },
    {
     "data": {
      "image/png": "[encoded data removed]",
      "text/plain": [
       "<Figure size 640x480 with 1 Axes>"
      ]
     },
     "metadata": {},
     "output_type": "display_data"
    }
   ],
   "source": [
    "import numpy as np\n",
    "\n",
    "def initialize_grid():\n",
    "    grid = np.zeros((5, 5))\n",
    "    rewards = {(0, 1): 5, (0, 3): 2.5, (1, 1): 0.5, (1, 3): -1}\n",
    "    return grid, rewards\n",
    "\n",
    "def is_terminal_state(x, y):\n",
    "    if (x, y) in [(0, 1), (0, 3), (1, 1), (1, 3)]:  # terminal states with unique rewards and transitions\n",
    "        return True\n",
    "    return False\n",
    "\n",
    "def get_next_state_reward(x, y):\n",
    "    if (x, y) == (0, 1):\n",
    "        return (1, 1), 5  # Teleports to the red square\n",
    "    elif (x, y) == (0, 3):\n",
    "        if np.random.rand() < 0.5:\n",
    "            return (1, 1), 2.5  # 50% chance to teleport to red\n",
    "        else:\n",
    "            return (1, 3), 2.5  # 50% chance to teleport to yellow\n",
    "    elif (x, y) == (1, 1):\n",
    "        return (1, 1), 0.5  # Stays in place\n",
    "    elif (x, y) == (1, 3):\n",
    "        return (1, 3), -1  # Stays in place\n",
    "    return (x, y), 0  # Default reward for non-special states\n",
    "\n",
    "def iterate_value(grid):\n",
    "    gamma = 0.95\n",
    "    new_grid = np.copy(grid)\n",
    "    for x in range(5):\n",
    "        for y in range(5):\n",
    "            if not is_terminal_state(x, y):\n",
    "                values = []\n",
    "                for dx, dy in [(-1, 0), (1, 0), (0, -1), (0, 1)]:  # possible moves\n",
    "                    nx, ny = x + dx, y + dy\n",
    "                    if 0 <= nx < 5 and 0 <= ny < 5:\n",
    "                        next_state, reward = get_next_state_reward(nx, ny)\n",
    "                        values.append(reward + gamma * grid[next_state])\n",
    "                    else:\n",
    "                        values.append(-0.5 + gamma * grid[x, y])  # penalty for off-grid move\n",
    "                new_grid[x, y] = np.mean(values)\n",
    "    return new_grid\n",
    "\n",
    "def main():\n",
    "    grid, rewards = initialize_grid()\n",
    "    for _ in range(100):  # Arbitrary number of iterations for convergence\n",
    "        grid = iterate_value(grid)\n",
    "    print()\n",
    "    print(grid)\n",
    "    plot_policy(grid,\"2. Iterative Policy\")\n",
    "\n",
    "if __name__ == \"__main__\":\n",
    "    main()\n"
   ]
  },
  {
   "cell_type": "markdown",
   "metadata": {},
   "source": [
    "# 1. Bellman Equations"
   ]
  },
  {
   "cell_type": "code",
   "execution_count": 24,
   "metadata": {},
   "outputs": [
    {
     "name": "stdout",
     "output_type": "stream",
     "text": [
      "Solution to the system of Bellman equations:\n",
      "[[ 10.58316979  14.5          3.21388655  -2.25        -6.11071899]\n",
      " [  7.78035746  10.          -2.10088459 -20.         -10.61467155]\n",
      " [  3.98638007   3.01745485  -2.05971641  -7.97494924  -7.40929644]\n",
      " [  1.79075634   0.7784094   -1.61411116  -4.10972078  -4.80815745]\n",
      " [  0.89023055   0.08341323  -1.40522974  -2.90686966  -3.66463788]]\n"
     ]
    },
    {
     "data": {
      "image/png": "[encoded data removed]",
      "text/plain": [
       "<Figure size 640x480 with 1 Axes>"
      ]
     },
     "metadata": {},
     "output_type": "display_data"
    }
   ],
   "source": [
    "import numpy as np\n",
    "\n",
    "def setup_system():\n",
    "    # Define the dimensions of the grid\n",
    "    n = 5\n",
    "    V = np.zeros(n * n)  # Initialize the values of all states to zero\n",
    "    R = np.zeros(n * n)  # Reward for each state\n",
    "    P = np.zeros((n * n, n * n))  # Transition probabilities\n",
    "\n",
    "    # Setting up rewards and transition probabilities\n",
    "    # Map (x, y) to a linear index idx = x * n + y for easier matrix manipulation\n",
    "    def idx(x, y):\n",
    "        return x * n + y\n",
    "\n",
    "    # Define rewards and transitions\n",
    "    R[idx(0, 1)] = 5\n",
    "    R[idx(0, 3)] = 2.5\n",
    "    R[idx(1, 1)] = 0.5\n",
    "    R[idx(1, 3)] = -1\n",
    "\n",
    "    # Transitions\n",
    "    # Assuming each non-terminal action leads uniformly to its neighbors or itself if off-grid\n",
    "    for x in range(n):\n",
    "        for y in range(n):\n",
    "            current_idx = idx(x, y)\n",
    "            neighbors = []\n",
    "            if x > 0: neighbors.append(idx(x-1, y))\n",
    "            if x < n-1: neighbors.append(idx(x+1, y))\n",
    "            if y > 0: neighbors.append(idx(x, y-1))\n",
    "            if y < n-1: neighbors.append(idx(x, y+1))\n",
    "            \n",
    "            if not neighbors:  # If no valid moves, return to itself (corner case for isolated states, not expected here)\n",
    "                neighbors.append(current_idx)\n",
    "            \n",
    "            for neighbor in neighbors:\n",
    "                P[current_idx, neighbor] += 1.0 / len(neighbors)\n",
    "\n",
    "    # Adjust for special transitions\n",
    "    P[idx(0, 1), :] = 0\n",
    "    P[idx(0, 1), idx(1, 1)] = 1  # Blue to Red\n",
    "\n",
    "    P[idx(0, 3), :] = 0\n",
    "    P[idx(0, 3), idx(1, 1)] = 0.5  # Green to Red\n",
    "    P[idx(0, 3), idx(1, 3)] = 0.5  # Green to Yellow\n",
    "\n",
    "    # Red and Yellow are terminal in behavior but not absorbing states\n",
    "    P[idx(1, 1), :] = 0\n",
    "    P[idx(1, 1), idx(1, 1)] = 1  # Red stays\n",
    "\n",
    "    P[idx(1, 3), :] = 0\n",
    "    P[idx(1, 3), idx(1, 3)] = 1  # Yellow stays\n",
    "\n",
    "    return V, R, P\n",
    "\n",
    "def solve_bellman(V, R, P, gamma=0.95):\n",
    "    # The Bellman equation for v_pi is: v = R + gamma * P * v\n",
    "    # Rearrange to (I - gamma * P) * v = R\n",
    "    n = len(V)\n",
    "    A = np.eye(n) - gamma * P\n",
    "    b = R\n",
    "    V = np.linalg.solve(A, b)\n",
    "    return V.reshape((5, 5))\n",
    "\n",
    "def main():\n",
    "    V, R, P = setup_system()\n",
    "    solution = solve_bellman(V, R, P)\n",
    "    print(\"Solution to the system of Bellman equations:\")\n",
    "    print(solution)\n",
    "    plot_policy(solution,\"1. Bellman Equations\")\n",
    "\n",
    "if __name__ == \"__main__\":\n",
    "    main()\n"
   ]
  },
  {
   "cell_type": "markdown",
   "metadata": {},
   "source": [
    "# 3. Value Iteration"
   ]
  },
  {
   "cell_type": "code",
   "execution_count": 25,
   "metadata": {},
   "outputs": [
    {
     "name": "stdout",
     "output_type": "stream",
     "text": [
      "Optimal values for each state after value iteration:\n",
      "[[5.         0.         5.         0.         3.67545945]\n",
      " [4.75       0.         4.75       0.         3.86890469]\n",
      " [4.5125     4.286875   4.5125     4.286875   4.07253125]\n",
      " [4.286875   4.07253125 4.286875   4.07253125 3.86890469]\n",
      " [4.07253125 3.86890469 4.07253125 3.86890469 3.67545945]]\n"
     ]
    },
    {
     "data": {
      "image/png": "[encoded data removed]",
      "text/plain": [
       "<Figure size 640x480 with 1 Axes>"
      ]
     },
     "metadata": {},
     "output_type": "display_data"
    }
   ],
   "source": [
    "import numpy as np\n",
    "\n",
    "def setup_gridworld():\n",
    "    n = 5  # Grid size\n",
    "    V = np.zeros((n, n))  # Value for each state\n",
    "    rewards = np.zeros((n, n))  # Reward for each state\n",
    "    is_terminal = np.zeros((n, n), dtype=bool)  # Terminal state indicator\n",
    "\n",
    "    # Define rewards and terminal states\n",
    "    rewards[0, 1] = 5  # Blue\n",
    "    rewards[0, 3] = 2.5  # Green\n",
    "    rewards[1, 1] = 0.5  # Red\n",
    "    rewards[1, 3] = -1  # Yellow\n",
    "\n",
    "    # Define terminal states\n",
    "    is_terminal[0, 1] = True  # Blue\n",
    "    is_terminal[0, 3] = True  # Green\n",
    "    is_terminal[1, 1] = True  # Red\n",
    "    is_terminal[1, 3] = True  # Yellow\n",
    "\n",
    "    return V, rewards, is_terminal\n",
    "\n",
    "def value_iteration(V, rewards, is_terminal, gamma=0.95, threshold=0.001):\n",
    "    n = len(V)\n",
    "\n",
    "    while True:\n",
    "        delta = 0\n",
    "        new_V = np.copy(V)\n",
    "        for x in range(n):\n",
    "            for y in range(n):\n",
    "                if not is_terminal[x, y]:\n",
    "                    v = V[x, y]\n",
    "                    # Calculate value from all possible actions\n",
    "                    values = []\n",
    "                    for dx, dy in [(-1, 0), (1, 0), (0, -1), (0, 1)]:\n",
    "                        nx, ny = x + dx, y + dy\n",
    "                        if 0 <= nx < n and 0 <= ny < n:\n",
    "                            values.append(rewards[nx, ny] + gamma * V[nx, ny])\n",
    "                        else:\n",
    "                            values.append(-0.5 + gamma * V[x, y])  # Off-grid penalty\n",
    "                    new_V[x, y] = max(values)\n",
    "                    delta = max(delta, abs(v - new_V[x, y]))\n",
    "        V = new_V\n",
    "        if delta < threshold:\n",
    "            break\n",
    "\n",
    "    return V\n",
    "\n",
    "def main():\n",
    "    V, rewards, is_terminal = setup_gridworld()\n",
    "    optimal_values = value_iteration(V, rewards, is_terminal)\n",
    "    print(\"Optimal values for each state after value iteration:\")\n",
    "    print(optimal_values)\n",
    "    plot_policy(optimal_values,\"3. Value Iteration\")\n",
    "\n",
    "if __name__ == \"__main__\":\n",
    "    main()"
   ]
  }
 ],
 "metadata": {
  "kernelspec": {
   "display_name": "not_base_v3",
   "language": "python",
   "name": "python3"
  },
  "language_info": {
   "codemirror_mode": {
    "name": "ipython",
    "version": 3
   },
   "file_extension": ".py",
   "mimetype": "text/x-python",
   "name": "python",
   "nbconvert_exporter": "python",
   "pygments_lexer": "ipython3",
   "version": "3.11.5"
  }
 },
 "nbformat": 4,
 "nbformat_minor": 2
}
